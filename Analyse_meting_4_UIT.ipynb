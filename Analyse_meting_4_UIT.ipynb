{
 "cells": [
  {
   "cell_type": "markdown",
   "metadata": {},
   "source": [
    "Ophalen programma's en data\n",
    "Voeg wel nog de juiste filenaam in\n"
   ]
  },
  {
   "cell_type": "markdown",
   "metadata": {},
   "source": []
  },
  {
   "cell_type": "code",
   "execution_count": null,
   "metadata": {},
   "outputs": [],
   "source": [
    "# %matplotlib widget #requires package ipympl installed, for interactive plots.\n",
    "import numpy as np\n",
    "import matplotlib.pyplot as plt\n",
    "import pandas as pd\n",
    "import os\n",
    "import matplotlib.gridspec as gridspec\n",
    "np.set_printoptions(precision=4,threshold =9,suppress=True)  #Compact display of arrays.\n",
    "\n",
    "# Voeg de juiste file naam in\n",
    "path = '2023-12-01 - 12.18.mqa'\n",
    "\n",
    "\n",
    "df=pd.read_csv(path, sep='\\t',header=0)\n",
    "\n",
    "\n",
    "\n",
    "Time = df['Time'].str.replace(',', '.').astype(float).to_list()\n",
    "Xpos = df['Point #1.X'].str.replace(',', '.').astype(float).to_list()\n",
    "Ypos = df['Point #1.Y'].str.replace(',', '.').astype(float).to_list()\n",
    "\n",
    "\n",
    "t = [Time[i] for i in range(len(Time)) if str(Xpos[i]) !='nan' ]\n",
    "Xpos = [x for x in Xpos if str(x) != 'nan']\n",
    "Ypos = [x for x in Ypos if str(x) != 'nan']\n",
    "\n",
    "\n",
    "# Er moet nog een juiste scaling factor komen voor de afstand per pixel\n",
    "t =np.asarray(t[1:69]) \n",
    "x = np.asarray(Xpos[1:69])\n",
    "y = np.asarray(Ypos[1:69])\n",
    "print(len(t), len(x))\n",
    "\n"
   ]
  },
  {
   "cell_type": "markdown",
   "metadata": {},
   "source": [
    "Test plot"
   ]
  },
  {
   "cell_type": "markdown",
   "metadata": {},
   "source": [
    "Fit maken van de functie om de golf te laten oscileren door x-as\n",
    "\n",
    "Pas wel de p0 de hele tijd aan bij elke keer proberen te fitten"
   ]
  },
  {
   "cell_type": "code",
   "execution_count": null,
   "metadata": {},
   "outputs": [],
   "source": [
    "from scipy.optimize import curve_fit\n",
    "\n",
    "df.drop([x for x in range(50)])\n",
    "def sinus_model(t,x0,A,omega,phi):\n",
    "    return x0+A*np.sin(omega*t+phi)\n",
    "\n",
    "popt, pcov = curve_fit(sinus_model,t,x,p0=[1326.00 ,-10 ,15.62,6.28],bounds = ([0,-100,0,0],[1500,100,100,2*np.pi]))\n",
    "x = np.asarray(x) - popt[0]\n",
    "x = np.asarray(x)*11.186/abs(popt[1])/100\n",
    "y = np.asarray(y)*11.186/abs(popt[1])/100\n",
    "popt, pcov = curve_fit(sinus_model,t,x,p0=[0,-0.11,13.62,6.28],bounds = ([-10,-50,-50,0],[10,50,50,2*np.pi]))\n",
    "parameter=['Offset (m)', 'Amplitude (m)', 'Frequency (rad/s)', 'phase (rad)']\n",
    "\n",
    "\n",
    "for i in range (4):\n",
    "    print(\"The optimal value for \", parameter[i], 'is:', \"{:.2f}\".format(popt[i]), '\\u00B1', \"{:.5f}\".format(np.sqrt(pcov[i,i])))"
   ]
  },
  {
   "cell_type": "markdown",
   "metadata": {},
   "source": []
  },
  {
   "cell_type": "markdown",
   "metadata": {},
   "source": [
    "Check of de verschuiving goed is gegaan"
   ]
  },
  {
   "cell_type": "code",
   "execution_count": null,
   "metadata": {},
   "outputs": [],
   "source": [
    "plt.scatter(x,y)"
   ]
  },
  {
   "cell_type": "code",
   "execution_count": null,
   "metadata": {},
   "outputs": [],
   "source": [
    "xfit = np.linspace(0,max(t),1000) #create new data for fit.\n",
    "\n",
    "#Plot data + fit\n",
    "\n",
    "fig,axes=plt.subplots(1,1,figsize=(8,4),sharex=True,sharey=True)\n",
    "axes.plot(xfit,sinus_model(xfit,*popt), color ='orange', lw = 2,zorder =1) #plot fit\n",
    "axes.scatter(t[::2],x[::2] ,color = 'black', s = 50, marker ='p',ec='black',fc='white',zorder=2) #plot every 15th datapoint \n",
    "\n",
    "#plot axis labels and limits\n",
    "axes.set_title('Example fit using Curve_fit of a simple pendulum',fontsize=16)\n",
    "axes.set_xlabel('time (s)',fontsize=12)\n",
    "axes.set_ylabel('x (m)',fontsize=12)\n",
    "# axes.set_xlim(0.5, max(t)+0.2)\n",
    "# axes.set_ylim(np.min(x)-0.1,np.max(x)+0.1)\n",
    "\n",
    "#Some plot settings\n",
    "axes.tick_params(direction=\"in\",labelsize=12,bottom = True,top = True,left= True,right=True) #inward direction of tick-lines\n",
    "axes.grid(True,color='gray')\n",
    "plt.tight_layout() #creates optimal padding levels for figure (especially usefull for side-by-side figures)\n",
    "\n",
    "# location='Path' #Path to your prefered location, e.g. User/Downloads/\n",
    "# plt.savefig(location+'simple_pendulum.svg') #Extension can be .png/.jpg/.etc or .svg/.pdf (Vector Image)\n",
    "\n",
    "plt.show()"
   ]
  },
  {
   "cell_type": "markdown",
   "metadata": {},
   "source": [
    "x coordinaat omschrijven naar phi met amplitude (A)\n",
    "\n",
    "Zorg dat x/A niet boven 1 en onder -1 kan komen"
   ]
  },
  {
   "cell_type": "code",
   "execution_count": null,
   "metadata": {},
   "outputs": [],
   "source": [
    "# minimum of maximum, afhankelijk van welke groter is. Als de fit erg goed is kan ook die A gebruikt worden.\n",
    "phi = np.asarray(x)/abs(min(x))\n",
    "\n",
    "phi = np.asarray(np.arccos(phi))\n",
    "phi_sum = []\n",
    "delta_sum = 0\n",
    "for i in range(len(phi)):\n",
    "    delta_sum += abs(phi[i] - phi[i-1])\n",
    "    phi_sum.append(delta_sum)"
   ]
  },
  {
   "cell_type": "markdown",
   "metadata": {},
   "source": [
    "Fit phi speed"
   ]
  },
  {
   "cell_type": "markdown",
   "metadata": {},
   "source": [
    "Plot fit phi speed\n",
    "\n",
    "Moet nog beter"
   ]
  },
  {
   "cell_type": "code",
   "execution_count": null,
   "metadata": {},
   "outputs": [],
   "source": [
    "def phi_model(t,a,b):\n",
    "    return a*t + b\n",
    "\n",
    "popt_phi, pcov_phi = curve_fit(phi_model,t,phi_sum,p0=[11.57,1.87],bounds = ([-100,-10],[100,100]))\n",
    "\n",
    "parameter_phi = ['a', 'b']\n",
    "for i in range (2):\n",
    "    print(\"The optimal value for \", parameter_phi[i], 'is:', \"{:.2f}\".format(popt_phi[i]), '\\u00B1', \"{:.5f}\".format(np.sqrt(pcov_phi[i,i])))\n",
    "\n",
    "r_c = 0.11186\n",
    "r_b = 21.98/1000\n",
    "r= r_c - r_b \n",
    "speed_phi = r*popt_phi[0]\n",
    "fout_speed_phi = np.sqrt(pcov_phi[0,0])\n",
    "\n",
    "\n",
    "\n",
    "\n",
    "fig = plt.figure(figsize=(8,6))\n",
    "gs = gridspec.GridSpec(5, 4) #Creates a grid of 6 rows and 4 columns.\n",
    "axes_main = plt.subplot(gs[1:5, :4]) #Main axis goes from row 1 to 6.\n",
    "axes_residuals = plt.subplot(gs[0, :4],sharex=axes_main) #Residual axis is row 0.\n",
    "\n",
    "axes_main.tick_params(axis='both',direction ='in',labelsize=12)\n",
    "axes_main.scatter(t[::1],phi_sum[::1],color='black', marker = 'p',ec='black',fc='white',s=50,zorder=3)\n",
    "axes_main.plot(t,phi_model(t,*popt_phi),color='darkred',ls='--', lw=2)\n",
    "axes_main.set_xlabel('t (s)',fontsize=16)\n",
    "axes_main.set_ylabel('$\\phi$',fontsize=16)\n",
    "axes_main.set_xlim(np.min(t),5)\n",
    "\n",
    "axes_residuals.tick_params(axis='both',direction ='in',labelsize=12)\n",
    "axes_residuals.set_title('Residual plot of Pendelum',fontsize=16)\n",
    "axes_residuals.errorbar(t,phi_sum-phi_model(t,*popt_phi),xerr=0,yerr=0,fmt='none',\n",
    "                        color='black',ecolor='black',capsize=3)\n",
    "axes_residuals.hlines(0,np.min(t),np.max(t),color='black',ls='--')\n",
    "axes_residuals.set_ylabel(r'$\\epsilon$ (m)',fontsize=16)\n",
    "axes_residuals.set_xlim(np.min(t),5)\n",
    "\n",
    "plt.tight_layout()\n",
    "plt.show()\n",
    "plt.close()"
   ]
  },
  {
   "cell_type": "code",
   "execution_count": null,
   "metadata": {},
   "outputs": [],
   "source": [
    "def phi_demping_model(t,a,b,c):\n",
    "    return a*t*np.exp(-c*t) + b\n",
    "\n",
    "popt_phi_demping, pcov_phi_demping = curve_fit(phi_demping_model,t,phi_sum,p0=[17.8,-5.58,0.08],bounds = ([-100,-10,-1],[100,100,5]))\n",
    "\n",
    "parameter_phi_demping = ['a', 'b', 'c']\n",
    "for i in range (3):\n",
    "    print(\"The optimal value for \", parameter_phi_demping[i], 'is:', \"{:.2f}\".format(popt_phi_demping[i]), '\\u00B1', \"{:.5f}\".format(np.sqrt(pcov_phi_demping[i,i])))\n",
    "\n",
    "fig = plt.figure(figsize=(8,6))\n",
    "gs = gridspec.GridSpec(5, 4) #Creates a grid of 6 rows and 4 columns.\n",
    "axes_main = plt.subplot(gs[1:5, :4]) #Main axis goes from row 1 to 6.\n",
    "axes_residuals = plt.subplot(gs[0, :4],sharex=axes_main) #Residual axis is row 0.\n",
    "\n",
    "axes_main.tick_params(axis='both',direction ='in',labelsize=12)\n",
    "axes_main.scatter(t[::15],phi_sum[::15],color='black', marker = 'p',ec='black',fc='white',s=50,zorder=3)\n",
    "axes_main.plot(t,phi_demping_model(t,*popt_phi_demping),color='darkred',ls='--', lw=2)\n",
    "axes_main.set_xlabel('t (s)',fontsize=16)\n",
    "axes_main.set_ylabel('$\\phi$',fontsize=16)\n",
    "axes_main.set_xlim(np.min(t),5)\n",
    "\n",
    "axes_residuals.tick_params(axis='both',direction ='in',labelsize=12)\n",
    "axes_residuals.set_title('Residual plot of Pendelum',fontsize=16)\n",
    "axes_residuals.errorbar(t,phi_sum-phi_demping_model(t,*popt_phi_demping),xerr=0,yerr=0,fmt='none',\n",
    "                        color='black',ecolor='black',capsize=3)\n",
    "axes_residuals.hlines(0,np.min(t),np.max(t),color='black',ls='--')\n",
    "axes_residuals.set_ylabel(r'$\\epsilon$ (m)',fontsize=16)\n",
    "axes_residuals.set_xlim(np.min(t),5)\n",
    "\n",
    "plt.tight_layout()\n",
    "plt.show()\n",
    "plt.close()"
   ]
  },
  {
   "cell_type": "markdown",
   "metadata": {},
   "source": [
    "Fit z"
   ]
  },
  {
   "cell_type": "code",
   "execution_count": null,
   "metadata": {},
   "outputs": [],
   "source": [
    "xfit = np.linspace(0,max(t),1000) #create new data for fit.\n",
    "\n",
    "def z_model(t,x0,V,A,a,b):\n",
    "    return A*np.exp(-a*t) * np.cos(V*t)+b*t+x0\n",
    "\n",
    "popt_z, pcov_z = curve_fit(z_model,t,y,p0=[1.00, 15,1,0.8 ,-0.56],bounds = ([0,0,0,0,-5],[40,200,100,10,0]))\n",
    "\n",
    "parameter=['x0','V', 'A','a','b']\n",
    "for i in range (5):\n",
    "    print(\"The optimal value for \", parameter[i], 'is:', \"{:.2f}\".format(popt_z[i]), '\\u00B1', \"{:.5f}\".format(np.sqrt(pcov_z[i,i])))\n",
    "\n",
    "fig = plt.figure(figsize=(8,6))\n",
    "gs = gridspec.GridSpec(5, 4) #Creates a grid of 6 rows and 4 columns.\n",
    "axes_main = plt.subplot(gs[1:5, :4]) #Main axis goes from row 1 to 6.\n",
    "axes_residuals = plt.subplot(gs[0, :4],sharex=axes_main) #Residual axis is row 0.\n",
    "\n",
    "axes_main.tick_params(axis='both',direction ='in',labelsize=12)\n",
    "axes_main.scatter(t[::1],y[::1],color='black', marker = 'p',ec='black',fc='white',s=50,zorder=3)\n",
    "axes_main.plot(t,z_model(t,*popt_z),color='darkred',ls='--', lw=2)\n",
    "axes_main.set_xlabel('t (s)',fontsize=16)\n",
    "axes_main.set_ylabel('z',fontsize=16)\n",
    "# axes_main.set_xlim(np.min(t),5)\n",
    "\n",
    "axes_residuals.tick_params(axis='both',direction ='in',labelsize=12)\n",
    "axes_residuals.set_title('Residual plot of Pendelum',fontsize=16)\n",
    "axes_residuals.errorbar(t,y-z_model(t,*popt_z),xerr=0,yerr=0,fmt='none',\n",
    "                        color='black',ecolor='black',capsize=3)\n",
    "axes_residuals.hlines(0,np.min(t),np.max(t),color='black',ls='--')\n",
    "axes_residuals.set_ylabel(r'$\\epsilon$ (m)',fontsize=16)\n",
    "# axes_residuals.set_xlim(np.min(t),5)\n",
    "\n",
    "plt.tight_layout()\n",
    "plt.show()\n",
    "plt.close()"
   ]
  },
  {
   "cell_type": "markdown",
   "metadata": {},
   "source": [
    "Snelheid in z richting berekenen"
   ]
  },
  {
   "cell_type": "code",
   "execution_count": null,
   "metadata": {},
   "outputs": [],
   "source": [
    "speed_z = -popt_z[2]*popt_z[3] +popt_z[4]\n",
    "\n",
    "\n",
    "fout_speed_z = np.sqrt(pcov_z[2,2] + pcov_z[3,3])+ pcov_z[4,4]\n",
    "print(fout_speed_z)\n",
    "print(speed_z, '\\u00B1', fout_speed_z)\n",
    "\n",
    "# beginsnelheid\n",
    "v_0 = np.sqrt((speed_phi)**2 + (speed_z)**2)\n",
    "fout_v_0 = np.sqrt(fout_speed_phi**2 + fout_speed_z**2)\n",
    "print(v_0,'\\u00B1', fout_v_0)\n"
   ]
  },
  {
   "cell_type": "markdown",
   "metadata": {},
   "source": [
    "Energie"
   ]
  },
  {
   "cell_type": "code",
   "execution_count": 141,
   "metadata": {},
   "outputs": [
    {
     "data": {
      "image/png": "[encoded data removed]",
      "text/plain": [
       "<Figure size 640x480 with 1 Axes>"
      ]
     },
     "metadata": {},
     "output_type": "display_data"
    }
   ],
   "source": [
    "m=26.9/1000\n",
    "g = 9.81\n",
    "r_c = 0.11186\n",
    "r_b = 21.98/1000\n",
    "r= r_c - r_b\n",
    "\n",
    "E_h = m*g*np.asarray(y[0:15000])\n",
    "E_h = np.asarray(E_h)-min(E_h)\n",
    "\n",
    "v_phi_2= (r*popt_phi_demping[0]*np.exp(-popt_phi_demping[2]*np.asarray(t)))**2 \n",
    "# v_z_2 = (-popt_z[2]*popt_z[3]*np.exp(-popt_z[3]*np.asarray(t))*np.cos(popt_z[1]*np.asarray(t))-popt_z[2]*popt_z[1]*np.exp(-popt_z[3]*np.asarray(t))*np.sin(popt_z[1]*np.asarray(t)) +popt_z[4])**2\n",
    "v_2 =  v_phi_2  + np.asarray(v_z_2)\n",
    "E_k = m*np.asarray(v_2)*7/10\n",
    "\n",
    "L = np.asarray(E_k - E_h)\n",
    "E_tot = np.asarray(E_k + E_h)\n",
    "\n",
    "plt.scatter(t,E_k)\n",
    "plt.scatter(t,E_h)\n",
    "plt.scatter(t,E_tot)\n",
    "plt.legend(['Kinetische energie', 'Potentiele energie', 'Totale energie'])\n",
    "# plt.xlim(0)\n",
    "plt.ylim(0)\n",
    "\n",
    "plt.show()"
   ]
  }
 ],
 "metadata": {
  "kernelspec": {
   "display_name": "base",
   "language": "python",
   "name": "python3"
  },
  "language_info": {
   "codemirror_mode": {
    "name": "ipython",
    "version": 3
   },
   "file_extension": ".py",
   "mimetype": "text/x-python",
   "name": "python",
   "nbconvert_exporter": "python",
   "pygments_lexer": "ipython3",
   "version": "3.9.7"
  }
 },
 "nbformat": 4,
 "nbformat_minor": 2
}
