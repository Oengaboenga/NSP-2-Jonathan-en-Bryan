{
 "cells": [
  {
   "cell_type": "code",
   "execution_count": 38,
   "metadata": {},
   "outputs": [],
   "source": [
    "import numpy as np\n",
    "import matplotlib.pyplot as plt\n",
    "import pandas as pd\n",
    "import os\n",
    "import matplotlib.gridspec as gridspec\n",
    "from scipy.optimize import curve_fit\n"
   ]
  },
  {
   "cell_type": "code",
   "execution_count": 39,
   "metadata": {},
   "outputs": [],
   "source": [
    "def importeren(naam_bestand, n):\n",
    "    \n",
    "    #bestand inladen\n",
    "    path = naam_bestand\n",
    "    df=pd.read_csv(path, sep='\\t',header=0)\n",
    "\n",
    "    #komma's verwijderen\n",
    "    Time = df['Time'].str.replace(',', '.').astype(float).to_list()\n",
    "    Xpos = df['Point #1.X'].str.replace(',', '.').astype(float).to_list()\n",
    "    Ypos = df['Point #1.Y'].str.replace(',', '.').astype(float).to_list()\n",
    "\n",
    "    #lijsten even groot maken\n",
    "    t = [Time[i] for i in range(len(Time)) if str(Xpos[i]) !='nan' ]\n",
    "    Xpos = [x for x in Xpos if str(x) != 'nan']\n",
    "    Ypos = [x for x in Ypos if str(x) != 'nan']\n",
    "\n",
    "    #punten verwijderen\n",
    "    t =np.asarray(t[0:n]) \n",
    "    x = np.asarray(Xpos[0:n])\n",
    "    y = np.asarray(Ypos[0:n])\n",
    "    return t,x,y"
   ]
  },
  {
   "cell_type": "code",
   "execution_count": 40,
   "metadata": {},
   "outputs": [],
   "source": [
    "t1,x1,y1 =importeren(\"2023-12-01 - 12.01.mqa\", 5)\n",
    "t2,x2,y2 =importeren(\"2023-12-01 - 12.04.mqa\",1500)\n",
    "t3,x3,y3 =importeren(\"2023-12-01 - 12.05.mqa\",1500)\n",
    "t4,x4,y4 =importeren(\"2023-12-01 - 12.18.mqa\",1500)\n",
    "t5,x5,y5 =importeren(\"2023-12-01 - 12.19.mqa\",1500)\n",
    "t6,x6,y6 =importeren(\"2023-12-01 - 12.24.mqa\",1500)\n",
    "t7,x7,y7 =importeren(\"2023-12-01 - 12.25.mqa\",1500)\n",
    "t8,x8,y8 =importeren('2023-12-01 - 12.26botsing_rand.mqa',1500)\n",
    "t9,x9,y9 =importeren(\"2023-12-01 - 12.28.mqa\",1500)\n",
    "t10,x10,y10 =importeren(\"2023-12-01 - 12.29.mqa\",1500)\n",
    "t11,x12,y11 =importeren(\"2023-12-01 - 12.33.mqa\",1500)\n",
    "t12,x13,y12 =importeren(\"2023-12-01 - 12.35.mqa\",1500)\n",
    "t13,x13,y13 =importeren(\"2023-12-01 - 12.mqa\",1500)\n"
   ]
  },
  {
   "cell_type": "code",
   "execution_count": null,
   "metadata": {},
   "outputs": [],
   "source": [
    "\n",
    "def sinus_model(t,x0,A,omega,phi):\n",
    "    return x0+A*np.sin(omega*t+phi)\n",
    "\n",
    "\n"
   ]
  },
  {
   "cell_type": "code",
   "execution_count": 41,
   "metadata": {},
   "outputs": [
    {
     "name": "stdout",
     "output_type": "stream",
     "text": [
      "[-0.68502227 -0.71053499 -0.69683514 -0.77187147]\n"
     ]
    }
   ],
   "source": [
    "dy_dx1 = np.diff(y1)/np.diff(x1)\n",
    "print(dy_dx1)"
   ]
  }
 ],
 "metadata": {
  "kernelspec": {
   "display_name": "base",
   "language": "python",
   "name": "python3"
  },
  "language_info": {
   "codemirror_mode": {
    "name": "ipython",
    "version": 3
   },
   "file_extension": ".py",
   "mimetype": "text/x-python",
   "name": "python",
   "nbconvert_exporter": "python",
   "pygments_lexer": "ipython3",
   "version": "3.9.7"
  }
 },
 "nbformat": 4,
 "nbformat_minor": 2
}
